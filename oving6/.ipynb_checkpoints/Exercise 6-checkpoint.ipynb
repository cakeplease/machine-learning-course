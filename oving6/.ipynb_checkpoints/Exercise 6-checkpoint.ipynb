{
 "cells": [
  {
   "cell_type": "markdown",
   "id": "b3204048",
   "metadata": {},
   "source": [
    "# Exercise 6\n",
    "\n",
    "For this exercise you can use either Python with sklearn or Weka.\n",
    "\n",
    "- Using the UCI mushroom dataset from the last exercise, perform a feature selection using a classifier evaluator. Which features are most discriminitave?\n",
    "- Use principal components analysis to construct a reduced space. Which combination of features explain the most variance in the dataset?\n",
    "- Do you see any overlap between the PCA features and those obtained from feature selection?\n"
   ]
  },
  {
   "cell_type": "code",
   "execution_count": 57,
   "id": "ffa1f3f9",
   "metadata": {},
   "outputs": [
    {
     "name": "stdout",
     "output_type": "stream",
     "text": [
      "Most discriminitave features:\n",
      "['edibility_e', 'edibility_p', 'odor_n']\n"
     ]
    }
   ],
   "source": [
    "from sklearn import decomposition\n",
    "from sklearn.feature_selection import SelectKBest\n",
    "from sklearn.feature_selection import chi2\n",
    "import pandas as pd\n",
    " \n",
    "#1)\n",
    "data = pd.read_csv('mushroom.data')\n",
    "dummy_data = pd.get_dummies(data)\n",
    "X, y = pd.get_dummies(data), pd.get_dummies(data['edibility'])\n",
    "skb = SelectKBest(chi2, k=3)\n",
    "skb.fit(X, y)\n",
    "X_new = skb.transform(x)\n",
    "\n",
    "selected_data = []\n",
    "for feature_index in skb.get_support(indices=True) :\n",
    "    selected_data.append(dummy_data.columns[feature_index])\n",
    "\n",
    "print(\"Most discriminitave features:\")\n",
    "print(selected_data)\n"
   ]
  },
  {
   "cell_type": "code",
   "execution_count": 59,
   "id": "0f08c0f8",
   "metadata": {},
   "outputs": [
    {
     "name": "stdout",
     "output_type": "stream",
     "text": [
      "Original space: (8124, 119)\n",
      "PCA space: (8124, 3)\n",
      "Features that explain coviariance best:\n",
      "['edibility_p', 'stalk-root_b', 'habitat_g']\n"
     ]
    }
   ],
   "source": [
    "#2)\n",
    "print(\"Original space:\", X.shape)\n",
    "pca = decomposition.PCA(n_components=3)\n",
    "Xpca = pca.fit_transform(X)\n",
    "\n",
    "print(\"PCA space:\", Xpca.shape)\n",
    "\n",
    "best_features = []\n",
    "for feature_index in range(Xpca.shape[1]):\n",
    "    best_features.append(pca.components_[feature_index].argmax())\n",
    "\n",
    "names = []\n",
    "for name in range(Xpca.shape[1]):\n",
    "    names.append(x.columns[best_features[name]])\n",
    "\n",
    "print(\"Features that explain coviariance best:\")\n",
    "print(names)"
   ]
  },
  {
   "cell_type": "code",
   "execution_count": null,
   "id": "5fb272d4",
   "metadata": {},
   "outputs": [],
   "source": [
    "#3) We can see that they overlap by edibility_p"
   ]
  }
 ],
 "metadata": {
  "kernelspec": {
   "display_name": "Python 3 (ipykernel)",
   "language": "python",
   "name": "python3"
  },
  "language_info": {
   "codemirror_mode": {
    "name": "ipython",
    "version": 3
   },
   "file_extension": ".py",
   "mimetype": "text/x-python",
   "name": "python",
   "nbconvert_exporter": "python",
   "pygments_lexer": "ipython3",
   "version": "3.9.7"
  }
 },
 "nbformat": 4,
 "nbformat_minor": 5
}
